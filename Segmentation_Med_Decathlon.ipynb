{
  "nbformat": 4,
  "nbformat_minor": 0,
  "metadata": {
    "colab": {
      "name": "Semantic_Segmentation.ipynb",
      "provenance": [],
      "collapsed_sections": [],
      "toc_visible": true
    },
    "kernelspec": {
      "name": "python3",
      "display_name": "Python 3"
    },
    "accelerator": "GPU"
  },
  "cells": [
    {
      "cell_type": "markdown",
      "metadata": {
        "id": "jHvuCEVd4A0n",
        "colab_type": "text"
      },
      "source": [
        "Unzip folder"
      ]
    },
    {
      "cell_type": "code",
      "metadata": {
        "id": "os9vpbjpipzW",
        "colab_type": "code",
        "colab": {
          "base_uri": "https://localhost:8080/",
          "height": 1000
        },
        "outputId": "ebc7413c-85d8-45ac-cbae-b635c5cfa71e"
      },
      "source": [
        "!tar -xvf /content/drive/My\\ Drive/Task02_Heart.tar"
      ],
      "execution_count": 1,
      "outputs": [
        {
          "output_type": "stream",
          "text": [
            "Task02_Heart/._dataset.json\n",
            "Task02_Heart/dataset.json\n",
            "Task02_Heart/._imagesTr\n",
            "Task02_Heart/imagesTr/\n",
            "Task02_Heart/imagesTr/la_007.nii.gz\n",
            "Task02_Heart/imagesTr/la_019.nii.gz\n",
            "Task02_Heart/imagesTr/la_023.nii.gz\n",
            "Task02_Heart/imagesTr/la_005.nii.gz\n",
            "Task02_Heart/imagesTr/la_009.nii.gz\n",
            "Task02_Heart/imagesTr/la_017.nii.gz\n",
            "Task02_Heart/imagesTr/la_021.nii.gz\n",
            "Task02_Heart/imagesTr/._la_029.nii.gz\n",
            "Task02_Heart/imagesTr/la_029.nii.gz\n",
            "Task02_Heart/imagesTr/la_003.nii.gz\n",
            "Task02_Heart/imagesTr/la_011.nii.gz\n",
            "Task02_Heart/imagesTr/la_030.nii.gz\n",
            "Task02_Heart/imagesTr/la_022.nii.gz\n",
            "Task02_Heart/imagesTr/la_014.nii.gz\n",
            "Task02_Heart/imagesTr/la_018.nii.gz\n",
            "Task02_Heart/imagesTr/la_020.nii.gz\n",
            "Task02_Heart/imagesTr/la_004.nii.gz\n",
            "Task02_Heart/imagesTr/la_016.nii.gz\n",
            "Task02_Heart/imagesTr/la_024.nii.gz\n",
            "Task02_Heart/imagesTr/la_010.nii.gz\n",
            "Task02_Heart/imagesTr/la_026.nii.gz\n",
            "Task02_Heart/._imagesTs\n",
            "Task02_Heart/imagesTs/\n",
            "Task02_Heart/imagesTs/la_015.nii.gz\n",
            "Task02_Heart/imagesTs/la_025.nii.gz\n",
            "Task02_Heart/imagesTs/la_013.nii.gz\n",
            "Task02_Heart/imagesTs/la_001.nii.gz\n",
            "Task02_Heart/imagesTs/la_027.nii.gz\n",
            "Task02_Heart/imagesTs/la_006.nii.gz\n",
            "Task02_Heart/imagesTs/la_008.nii.gz\n",
            "Task02_Heart/imagesTs/la_012.nii.gz\n",
            "Task02_Heart/imagesTs/la_028.nii.gz\n",
            "Task02_Heart/imagesTs/la_002.nii.gz\n",
            "Task02_Heart/._labelsTr\n",
            "Task02_Heart/labelsTr/\n",
            "Task02_Heart/labelsTr/la_007.nii.gz\n",
            "Task02_Heart/labelsTr/la_019.nii.gz\n",
            "Task02_Heart/labelsTr/la_023.nii.gz\n",
            "Task02_Heart/labelsTr/la_005.nii.gz\n",
            "Task02_Heart/labelsTr/la_009.nii.gz\n",
            "Task02_Heart/labelsTr/la_017.nii.gz\n",
            "Task02_Heart/labelsTr/la_021.nii.gz\n",
            "Task02_Heart/labelsTr/._la_029.nii.gz\n",
            "Task02_Heart/labelsTr/la_029.nii.gz\n",
            "Task02_Heart/labelsTr/la_003.nii.gz\n",
            "Task02_Heart/labelsTr/la_011.nii.gz\n",
            "Task02_Heart/labelsTr/la_030.nii.gz\n",
            "Task02_Heart/labelsTr/la_022.nii.gz\n",
            "Task02_Heart/labelsTr/._la_014.nii.gz\n",
            "Task02_Heart/labelsTr/la_014.nii.gz\n",
            "Task02_Heart/labelsTr/la_018.nii.gz\n",
            "Task02_Heart/labelsTr/la_020.nii.gz\n",
            "Task02_Heart/labelsTr/la_004.nii.gz\n",
            "Task02_Heart/labelsTr/la_016.nii.gz\n",
            "Task02_Heart/labelsTr/la_024.nii.gz\n",
            "Task02_Heart/labelsTr/la_010.nii.gz\n",
            "Task02_Heart/labelsTr/la_026.nii.gz\n"
          ],
          "name": "stdout"
        }
      ]
    },
    {
      "cell_type": "markdown",
      "metadata": {
        "id": "V5tGdfCm4E0h",
        "colab_type": "text"
      },
      "source": [
        "Install necessary libraries"
      ]
    },
    {
      "cell_type": "code",
      "metadata": {
        "id": "9VkAntK9mCbC",
        "colab_type": "code",
        "colab": {
          "base_uri": "https://localhost:8080/",
          "height": 462
        },
        "outputId": "ea7e6375-8111-4726-bfae-93c3f05c0bca"
      },
      "source": [
        "!pip3 install numpy matplotlib scikit-learn\n",
        "!pip3 install torch torchvision \n",
        "!pip3 install medicaltorch\n",
        "!pip3 install tqdm"
      ],
      "execution_count": 2,
      "outputs": [
        {
          "output_type": "stream",
          "text": [
            "Requirement already satisfied: numpy in /usr/local/lib/python3.6/dist-packages (1.18.5)\n",
            "Requirement already satisfied: matplotlib in /usr/local/lib/python3.6/dist-packages (3.2.2)\n",
            "Requirement already satisfied: scikit-learn in /usr/local/lib/python3.6/dist-packages (0.22.2.post1)\n",
            "Requirement already satisfied: cycler>=0.10 in /usr/local/lib/python3.6/dist-packages (from matplotlib) (0.10.0)\n",
            "Requirement already satisfied: python-dateutil>=2.1 in /usr/local/lib/python3.6/dist-packages (from matplotlib) (2.8.1)\n",
            "Requirement already satisfied: pyparsing!=2.0.4,!=2.1.2,!=2.1.6,>=2.0.1 in /usr/local/lib/python3.6/dist-packages (from matplotlib) (2.4.7)\n",
            "Requirement already satisfied: kiwisolver>=1.0.1 in /usr/local/lib/python3.6/dist-packages (from matplotlib) (1.2.0)\n",
            "Requirement already satisfied: scipy>=0.17.0 in /usr/local/lib/python3.6/dist-packages (from scikit-learn) (1.4.1)\n",
            "Requirement already satisfied: joblib>=0.11 in /usr/local/lib/python3.6/dist-packages (from scikit-learn) (0.16.0)\n",
            "Requirement already satisfied: six in /usr/local/lib/python3.6/dist-packages (from cycler>=0.10->matplotlib) (1.15.0)\n",
            "Requirement already satisfied: torch in /usr/local/lib/python3.6/dist-packages (1.6.0+cu101)\n",
            "Requirement already satisfied: torchvision in /usr/local/lib/python3.6/dist-packages (0.7.0+cu101)\n",
            "Requirement already satisfied: numpy in /usr/local/lib/python3.6/dist-packages (from torch) (1.18.5)\n",
            "Requirement already satisfied: future in /usr/local/lib/python3.6/dist-packages (from torch) (0.16.0)\n",
            "Requirement already satisfied: pillow>=4.1.1 in /usr/local/lib/python3.6/dist-packages (from torchvision) (7.0.0)\n",
            "Requirement already satisfied: medicaltorch in /usr/local/lib/python3.6/dist-packages (0.2)\n",
            "Requirement already satisfied: tqdm>=4.23.0 in /usr/local/lib/python3.6/dist-packages (from medicaltorch) (4.41.1)\n",
            "Requirement already satisfied: nibabel>=2.2.1 in /usr/local/lib/python3.6/dist-packages (from medicaltorch) (3.0.2)\n",
            "Requirement already satisfied: numpy>=1.14.1 in /usr/local/lib/python3.6/dist-packages (from medicaltorch) (1.18.5)\n",
            "Requirement already satisfied: torchvision>=0.2.1 in /usr/local/lib/python3.6/dist-packages (from medicaltorch) (0.7.0+cu101)\n",
            "Requirement already satisfied: torch>=0.4.0 in /usr/local/lib/python3.6/dist-packages (from medicaltorch) (1.6.0+cu101)\n",
            "Requirement already satisfied: scipy>=1.0.0 in /usr/local/lib/python3.6/dist-packages (from medicaltorch) (1.4.1)\n",
            "Requirement already satisfied: pillow>=4.1.1 in /usr/local/lib/python3.6/dist-packages (from torchvision>=0.2.1->medicaltorch) (7.0.0)\n",
            "Requirement already satisfied: future in /usr/local/lib/python3.6/dist-packages (from torch>=0.4.0->medicaltorch) (0.16.0)\n",
            "Requirement already satisfied: tqdm in /usr/local/lib/python3.6/dist-packages (4.41.1)\n"
          ],
          "name": "stdout"
        }
      ]
    },
    {
      "cell_type": "markdown",
      "metadata": {
        "id": "-gnTACAM4JB5",
        "colab_type": "text"
      },
      "source": [
        "Import packages used"
      ]
    },
    {
      "cell_type": "code",
      "metadata": {
        "id": "tAwx6ej9l_Ua",
        "colab_type": "code",
        "colab": {}
      },
      "source": [
        "import os\n",
        "import glob\n",
        "import time\n",
        "from tqdm import tqdm\n",
        "\n",
        "import numpy as np\n",
        "\n",
        "import matplotlib.pyplot as plt\n",
        "\n",
        "from sklearn.model_selection import train_test_split\n",
        "\n",
        "import torch\n",
        "from torch.utils.data import DataLoader\n",
        "from torch import optim\n",
        "from torchvision.transforms import Compose\n",
        "import torchvision.utils as vutils\n",
        "\n",
        "from medicaltorch.datasets import SegmentationPair2D, MRI2DSegmentationDataset, mt_collate\n",
        "from medicaltorch.transforms import ToTensor, Resample, ElasticTransform, CenterCrop2D, RandomAffine, RandomTensorChannelShift, NormalizeInstance\n",
        "from medicaltorch.models import Unet\n",
        "from medicaltorch import metrics as mt_metrics\n",
        "from medicaltorch import losses as mt_losses"
      ],
      "execution_count": 3,
      "outputs": []
    },
    {
      "cell_type": "code",
      "metadata": {
        "id": "je5VeDe_jpUM",
        "colab_type": "code",
        "colab": {}
      },
      "source": [
        "ROOT_DIR = '/content/Task02_Heart'"
      ],
      "execution_count": 4,
      "outputs": []
    },
    {
      "cell_type": "code",
      "metadata": {
        "id": "HqrnETj_l9nf",
        "colab_type": "code",
        "colab": {
          "base_uri": "https://localhost:8080/",
          "height": 34
        },
        "outputId": "03da1f62-f25b-4fb3-d5de-e1ed046dc2db"
      },
      "source": [
        "input_filename = os.path.join(ROOT_DIR, 'imagesTr', 'la_010.nii.gz')\n",
        "gt_filename = os.path.join(ROOT_DIR, 'labelsTr', 'la_010.nii.gz')\n",
        "pair = SegmentationPair2D(input_filename, gt_filename)\n",
        "pair.get_pair_shapes()"
      ],
      "execution_count": 5,
      "outputs": [
        {
          "output_type": "execute_result",
          "data": {
            "text/plain": [
              "((320, 320, 120), (320, 320, 120))"
            ]
          },
          "metadata": {
            "tags": []
          },
          "execution_count": 5
        }
      ]
    },
    {
      "cell_type": "markdown",
      "metadata": {
        "id": "qhzDXcHW4LrD",
        "colab_type": "text"
      },
      "source": [
        "Example slice"
      ]
    },
    {
      "cell_type": "code",
      "metadata": {
        "id": "KIfb4vEB7gkh",
        "colab_type": "code",
        "colab": {
          "base_uri": "https://localhost:8080/",
          "height": 216
        },
        "outputId": "75c41227-b28d-456b-e429-2255a387a657"
      },
      "source": [
        "slice_pair = pair.get_pair_slice(42)\n",
        "input = slice_pair['input']\n",
        "gt = slice_pair['gt']\n",
        "\n",
        "plt.subplot(1, 2, 1)\n",
        "plt.imshow(input, cmap='gray')\n",
        "plt.title('Input slice')\n",
        "\n",
        "plt.subplot(1, 2, 2)\n",
        "plt.imshow(gt, cmap='gray')\n",
        "plt.title('Ground truth')\n",
        "\n",
        "plt.show()"
      ],
      "execution_count": 6,
      "outputs": [
        {
          "output_type": "display_data",
          "data": {
            "image/png": "[encoded data removed]",
            "text/plain": [
              "<Figure size 432x288 with 2 Axes>"
            ]
          },
          "metadata": {
            "tags": [],
            "needs_background": "light"
          }
        }
      ]
    },
    {
      "cell_type": "code",
      "metadata": {
        "id": "yQ6rCdjK_gAc",
        "colab_type": "code",
        "colab": {
          "base_uri": "https://localhost:8080/",
          "height": 102
        },
        "outputId": "4866331e-d1f8-4e7c-b3d0-49878bfecbb8"
      },
      "source": [
        "!ls -a /content/Task02_Heart/imagesTr/"
      ],
      "execution_count": 7,
      "outputs": [
        {
          "output_type": "stream",
          "text": [
            ".\t       la_007.nii.gz  la_016.nii.gz  la_021.nii.gz  ._la_029.nii.gz\n",
            "..\t       la_009.nii.gz  la_017.nii.gz  la_022.nii.gz  la_029.nii.gz\n",
            "la_003.nii.gz  la_010.nii.gz  la_018.nii.gz  la_023.nii.gz  la_030.nii.gz\n",
            "la_004.nii.gz  la_011.nii.gz  la_019.nii.gz  la_024.nii.gz\n",
            "la_005.nii.gz  la_014.nii.gz  la_020.nii.gz  la_026.nii.gz\n"
          ],
          "name": "stdout"
        }
      ]
    },
    {
      "cell_type": "markdown",
      "metadata": {
        "id": "uUU_-MRw4Nw8",
        "colab_type": "text"
      },
      "source": [
        "Delete metadata files"
      ]
    },
    {
      "cell_type": "code",
      "metadata": {
        "id": "zSLzbIfE781y",
        "colab_type": "code",
        "colab": {
          "base_uri": "https://localhost:8080/",
          "height": 119
        },
        "outputId": "c56c007f-654d-49d4-88f3-54577b218d21"
      },
      "source": [
        "!rm -rf /content/Task02_Heart/imagesTr/.*\n",
        "!rm -rf /content/Task02_Heart/imagesTs/.*\n",
        "!rm -rf /content/Task02_Heart/labelsTr/.*"
      ],
      "execution_count": 8,
      "outputs": [
        {
          "output_type": "stream",
          "text": [
            "rm: refusing to remove '.' or '..' directory: skipping '/content/Task02_Heart/imagesTr/.'\n",
            "rm: refusing to remove '.' or '..' directory: skipping '/content/Task02_Heart/imagesTr/..'\n",
            "rm: refusing to remove '.' or '..' directory: skipping '/content/Task02_Heart/imagesTs/.'\n",
            "rm: refusing to remove '.' or '..' directory: skipping '/content/Task02_Heart/imagesTs/..'\n",
            "rm: refusing to remove '.' or '..' directory: skipping '/content/Task02_Heart/labelsTr/.'\n",
            "rm: refusing to remove '.' or '..' directory: skipping '/content/Task02_Heart/labelsTr/..'\n"
          ],
          "name": "stdout"
        }
      ]
    },
    {
      "cell_type": "markdown",
      "metadata": {
        "id": "6Ed8P4D44Pvg",
        "colab_type": "text"
      },
      "source": [
        "Create dataset given file names"
      ]
    },
    {
      "cell_type": "code",
      "metadata": {
        "id": "VOfHEkXX7wU-",
        "colab_type": "code",
        "colab": {}
      },
      "source": [
        "img_list = glob.glob(os.path.join(ROOT_DIR, 'imagesTr/')+'*.gz')\n",
        "label_list = glob.glob(os.path.join(ROOT_DIR, 'labelsTr/')+'*.gz')\n",
        "\n",
        "filename_pairs = [(os.path.join(ROOT_DIR, 'imagesTr', x), os.path.join(ROOT_DIR, 'labelsTr', y)) for x, y in zip(img_list, label_list)]\n",
        "train_dataset = MRI2DSegmentationDataset(filename_pairs, transform=ToTensor())"
      ],
      "execution_count": 9,
      "outputs": []
    },
    {
      "cell_type": "markdown",
      "metadata": {
        "id": "ZPwYRAFQ4TuD",
        "colab_type": "text"
      },
      "source": [
        "Thresholding function to convert output to either 0 or 1"
      ]
    },
    {
      "cell_type": "code",
      "metadata": {
        "id": "flvZEJnT9HX4",
        "colab_type": "code",
        "colab": {}
      },
      "source": [
        "def threshold_preds(preds, thr=0.999):\n",
        "    preds = preds[:]\n",
        "    ind = preds < thr\n",
        "    preds[ind] = 0\n",
        "    ind = (preds >= thr)\n",
        "    preds[ind] = 1\n",
        "    return preds"
      ],
      "execution_count": 81,
      "outputs": []
    },
    {
      "cell_type": "markdown",
      "metadata": {
        "id": "bi2kmzOs4aoW",
        "colab_type": "text"
      },
      "source": [
        "Transforms to enhance training"
      ]
    },
    {
      "cell_type": "code",
      "metadata": {
        "id": "f1O-bzzX-mc_",
        "colab_type": "code",
        "colab": {}
      },
      "source": [
        "train_transform = Compose([\n",
        "        ElasticTransform(alpha_range=(28.0, 30.0),\n",
        "                                       sigma_range=(3.5, 4.0),\n",
        "                                       p=0.3),\n",
        "        RandomAffine(degrees=4.6,\n",
        "                                   scale=(0.98, 1.02),\n",
        "                                   translate=(0.03, 0.03)),\n",
        "        RandomTensorChannelShift((-0.10, 0.10)),\n",
        "        ToTensor(),\n",
        "        NormalizeInstance(),\n",
        "])\n",
        "\n",
        "val_transform = Compose([\n",
        "        ToTensor(),\n",
        "        NormalizeInstance(),\n",
        "])"
      ],
      "execution_count": 82,
      "outputs": []
    },
    {
      "cell_type": "markdown",
      "metadata": {
        "id": "OHPr5tyh49hA",
        "colab_type": "text"
      },
      "source": [
        "Create train and validation sets"
      ]
    },
    {
      "cell_type": "code",
      "metadata": {
        "id": "cnfcNSLY_OjR",
        "colab_type": "code",
        "colab": {}
      },
      "source": [
        "pairs = [(os.path.join(ROOT_DIR, 'imagesTr', x), os.path.join(ROOT_DIR, 'labelsTr', y)) for x, y in zip(img_list, label_list)]\n",
        "train_pairs, val_pairs = train_test_split(pairs, test_size=0.2)\n",
        "train_dataset = MRI2DSegmentationDataset(train_pairs, transform=train_transform)\n",
        "val_dataset = MRI2DSegmentationDataset(val_pairs, transform=val_transform)"
      ],
      "execution_count": 83,
      "outputs": []
    },
    {
      "cell_type": "markdown",
      "metadata": {
        "id": "376rUyo55BKF",
        "colab_type": "text"
      },
      "source": [
        "Dataloaders"
      ]
    },
    {
      "cell_type": "code",
      "metadata": {
        "id": "O1tyETVuAMSX",
        "colab_type": "code",
        "colab": {}
      },
      "source": [
        "train_loader = DataLoader(train_dataset, batch_size=16,\n",
        "                          shuffle=True, pin_memory=False,\n",
        "                          collate_fn=mt_collate,\n",
        "                          num_workers=0)\n",
        "\n",
        "val_loader = DataLoader(val_dataset, batch_size=16,\n",
        "                        shuffle=True, pin_memory=False,\n",
        "                        collate_fn=mt_collate,\n",
        "                        num_workers=0)"
      ],
      "execution_count": 87,
      "outputs": []
    },
    {
      "cell_type": "markdown",
      "metadata": {
        "id": "l96Ahxdy5DON",
        "colab_type": "text"
      },
      "source": [
        "Using a UNet with the Adam optimizer and scheduling the learning rate"
      ]
    },
    {
      "cell_type": "code",
      "metadata": {
        "id": "kPF3D9vaCE58",
        "colab_type": "code",
        "colab": {}
      },
      "source": [
        "model = Unet()\n",
        "model.cuda()\n",
        "epochs = 50\n",
        "initial_lr = 0.001\n",
        "optimizer = optim.Adam(model.parameters(), lr=initial_lr)\n",
        "scheduler = optim.lr_scheduler.CosineAnnealingLR(optimizer, epochs)"
      ],
      "execution_count": 88,
      "outputs": []
    },
    {
      "cell_type": "markdown",
      "metadata": {
        "id": "ilLDt9HC5MwQ",
        "colab_type": "text"
      },
      "source": [
        "Training loop"
      ]
    },
    {
      "cell_type": "code",
      "metadata": {
        "id": "HgPuk6w9P771",
        "colab_type": "code",
        "colab": {
          "base_uri": "https://localhost:8080/",
          "height": 1000
        },
        "outputId": "a9e99882-ba23-45b8-c771-6beb6960861a"
      },
      "source": [
        "torch.autograd.set_detect_anomaly(True)\n",
        "\n",
        "train_dice_loss = []\n",
        "val_dice_loss = []\n",
        "\n",
        "for epoch in tqdm(range(1, epochs+1)):\n",
        "\n",
        "    model.train()\n",
        "    train_loss_total = 0.0\n",
        "    num_steps = 0\n",
        "    \n",
        "    ### Train\n",
        "    for i, batch in enumerate(train_loader):\n",
        "        input_samples, gt_samples = batch[\"input\"], batch[\"gt\"]\n",
        "\n",
        "        train_input = input_samples.cuda()\n",
        "        train_gt = gt_samples.cuda(async=True)\n",
        "\n",
        "        train_preds = model(train_input)\n",
        "\n",
        "        loss = mt_losses.dice_loss(train_preds, train_gt)\n",
        "        train_loss_total += loss.item()\n",
        "\n",
        "        optimizer.zero_grad()\n",
        "        loss.backward()\n",
        "        optimizer.step()\n",
        "        num_steps += 1\n",
        "    \n",
        "    train_loss_total_avg = train_loss_total / num_steps\n",
        "    train_acc  = mt_metrics.accuracy_score(train_preds.cpu().detach().numpy(), \n",
        "                          train_gt.cpu().detach().numpy())\n",
        "    \n",
        "    model.eval()\n",
        "    val_loss_total = 0.0\n",
        "    num_steps = 0\n",
        "            \n",
        "    ### Validate\n",
        "    for i, batch in enumerate(val_loader):\n",
        "        input_samples, gt_samples = batch[\"input\"], batch[\"gt\"]\n",
        "\n",
        "        with torch.no_grad():\n",
        "            val_input = input_samples.cuda()\n",
        "            val_gt = gt_samples.cuda(async=True)\n",
        "\n",
        "            val_preds = model(val_input)\n",
        "            loss = mt_losses.dice_loss(val_preds, val_gt)\n",
        "            val_loss_total += loss.item()\n",
        "\n",
        "        val_gt_npy = gt_samples.numpy().astype(np.uint8)\n",
        "        val_gt_npy = val_gt_npy.squeeze(axis=1)\n",
        "\n",
        "        val_preds = val_preds.data.cpu().numpy()\n",
        "        val_preds = threshold_preds(val_preds)\n",
        "        val_preds = val_preds.astype(np.uint8)\n",
        "        val_preds = val_preds.squeeze(axis=1)\n",
        "\n",
        "        num_steps += 1\n",
        "\n",
        "    val_acc  = mt_metrics.accuracy_score(val_preds, val_gt_npy)\n",
        "    val_loss_total_avg = val_loss_total / num_steps\n",
        "   \n",
        "    scheduler.step()\n",
        "\n",
        "    train_dice_loss.append(train_loss_total_avg)\n",
        "    val_dice_loss.append(val_loss_total_avg)\n",
        "\n",
        "    print('\\nTrain loss: {:.4f}, Training Accuracy: {:.4f} '.format(train_loss_total_avg, train_acc))\n",
        "    print('Val Loss: {:.4f}, Validation Accuracy: {:.4f} '.format(val_loss_total_avg, val_acc))"
      ],
      "execution_count": 89,
      "outputs": [
        {
          "output_type": "stream",
          "text": [
            "\r  0%|          | 0/50 [00:00<?, ?it/s]/usr/local/lib/python3.6/dist-packages/torch/nn/functional.py:3121: UserWarning: Default upsampling behavior when mode=bilinear is changed to align_corners=False since 0.4.0. Please specify align_corners=True if the old behavior is desired. See the documentation of nn.Upsample for details.\n",
            "  \"See the documentation of nn.Upsample for details.\".format(mode))\n",
            "/usr/local/lib/python3.6/dist-packages/torch/nn/functional.py:1625: UserWarning: nn.functional.sigmoid is deprecated. Use torch.sigmoid instead.\n",
            "  warnings.warn(\"nn.functional.sigmoid is deprecated. Use torch.sigmoid instead.\")\n",
            "  2%|▏         | 1/50 [02:11<1:47:46, 131.97s/it]"
          ],
          "name": "stderr"
        },
        {
          "output_type": "stream",
          "text": [
            "\n",
            "Train loss: -0.1145, Training Accuracy: 3.7804 \n",
            "Val Loss: -0.2118, Validation Accuracy: 98.3721 \n"
          ],
          "name": "stdout"
        },
        {
          "output_type": "stream",
          "text": [
            "\r  4%|▍         | 2/50 [04:16<1:43:51, 129.82s/it]"
          ],
          "name": "stderr"
        },
        {
          "output_type": "stream",
          "text": [
            "\n",
            "Train loss: -0.2819, Training Accuracy: 28.5920 \n",
            "Val Loss: -0.3942, Validation Accuracy: 99.3164 \n"
          ],
          "name": "stdout"
        },
        {
          "output_type": "stream",
          "text": [
            "\r  6%|▌         | 3/50 [06:21<1:40:29, 128.28s/it]"
          ],
          "name": "stderr"
        },
        {
          "output_type": "stream",
          "text": [
            "\n",
            "Train loss: -0.4020, Training Accuracy: 49.7962 \n",
            "Val Loss: -0.5081, Validation Accuracy: 99.2588 \n"
          ],
          "name": "stdout"
        },
        {
          "output_type": "stream",
          "text": [
            "\r  8%|▊         | 4/50 [08:25<1:37:28, 127.14s/it]"
          ],
          "name": "stderr"
        },
        {
          "output_type": "stream",
          "text": [
            "\n",
            "Train loss: -0.4762, Training Accuracy: 58.7204 \n",
            "Val Loss: -0.5033, Validation Accuracy: 99.4316 \n"
          ],
          "name": "stdout"
        },
        {
          "output_type": "stream",
          "text": [
            "\r 10%|█         | 5/50 [10:29<1:34:37, 126.16s/it]"
          ],
          "name": "stderr"
        },
        {
          "output_type": "stream",
          "text": [
            "\n",
            "Train loss: -0.5294, Training Accuracy: 78.5391 \n",
            "Val Loss: -0.5539, Validation Accuracy: 99.4473 \n"
          ],
          "name": "stdout"
        },
        {
          "output_type": "stream",
          "text": [
            "\r 12%|█▏        | 6/50 [12:34<1:32:17, 125.84s/it]"
          ],
          "name": "stderr"
        },
        {
          "output_type": "stream",
          "text": [
            "\n",
            "Train loss: -0.5722, Training Accuracy: 57.8549 \n",
            "Val Loss: -0.6305, Validation Accuracy: 100.0000 \n"
          ],
          "name": "stdout"
        },
        {
          "output_type": "stream",
          "text": [
            "\r 14%|█▍        | 7/50 [14:39<1:29:54, 125.44s/it]"
          ],
          "name": "stderr"
        },
        {
          "output_type": "stream",
          "text": [
            "\n",
            "Train loss: -0.6105, Training Accuracy: 80.1949 \n",
            "Val Loss: -0.6678, Validation Accuracy: 100.0000 \n"
          ],
          "name": "stdout"
        },
        {
          "output_type": "stream",
          "text": [
            "\r 16%|█▌        | 8/50 [16:43<1:27:28, 124.96s/it]"
          ],
          "name": "stderr"
        },
        {
          "output_type": "stream",
          "text": [
            "\n",
            "Train loss: -0.6384, Training Accuracy: 84.0793 \n",
            "Val Loss: -0.6854, Validation Accuracy: 99.8926 \n"
          ],
          "name": "stdout"
        },
        {
          "output_type": "stream",
          "text": [
            "\r 18%|█▊        | 9/50 [18:48<1:25:28, 125.07s/it]"
          ],
          "name": "stderr"
        },
        {
          "output_type": "stream",
          "text": [
            "\n",
            "Train loss: -0.6893, Training Accuracy: 80.3902 \n",
            "Val Loss: -0.5722, Validation Accuracy: 99.3955 \n"
          ],
          "name": "stdout"
        },
        {
          "output_type": "stream",
          "text": [
            "\r 20%|██        | 10/50 [20:52<1:23:09, 124.74s/it]"
          ],
          "name": "stderr"
        },
        {
          "output_type": "stream",
          "text": [
            "\n",
            "Train loss: -0.7153, Training Accuracy: 77.5816 \n",
            "Val Loss: -0.7479, Validation Accuracy: 99.9541 \n"
          ],
          "name": "stdout"
        },
        {
          "output_type": "stream",
          "text": [
            "\r 22%|██▏       | 11/50 [22:56<1:20:50, 124.38s/it]"
          ],
          "name": "stderr"
        },
        {
          "output_type": "stream",
          "text": [
            "\n",
            "Train loss: -0.7107, Training Accuracy: 93.6481 \n",
            "Val Loss: -0.7930, Validation Accuracy: 99.9258 \n"
          ],
          "name": "stdout"
        },
        {
          "output_type": "stream",
          "text": [
            "\r 24%|██▍       | 12/50 [25:01<1:18:58, 124.70s/it]"
          ],
          "name": "stderr"
        },
        {
          "output_type": "stream",
          "text": [
            "\n",
            "Train loss: -0.7125, Training Accuracy: 84.4763 \n",
            "Val Loss: -0.7685, Validation Accuracy: 100.0000 \n"
          ],
          "name": "stdout"
        },
        {
          "output_type": "stream",
          "text": [
            "\r 26%|██▌       | 13/50 [27:06<1:16:57, 124.80s/it]"
          ],
          "name": "stderr"
        },
        {
          "output_type": "stream",
          "text": [
            "\n",
            "Train loss: -0.7363, Training Accuracy: 82.5597 \n",
            "Val Loss: -0.7152, Validation Accuracy: 99.2617 \n"
          ],
          "name": "stdout"
        },
        {
          "output_type": "stream",
          "text": [
            "\r 28%|██▊       | 14/50 [29:11<1:14:57, 124.93s/it]"
          ],
          "name": "stderr"
        },
        {
          "output_type": "stream",
          "text": [
            "\n",
            "Train loss: -0.7686, Training Accuracy: 89.0544 \n",
            "Val Loss: -0.7548, Validation Accuracy: 100.0000 \n"
          ],
          "name": "stdout"
        },
        {
          "output_type": "stream",
          "text": [
            "\r 30%|███       | 15/50 [31:17<1:12:55, 125.03s/it]"
          ],
          "name": "stderr"
        },
        {
          "output_type": "stream",
          "text": [
            "\n",
            "Train loss: -0.7718, Training Accuracy: 93.3036 \n",
            "Val Loss: -0.7969, Validation Accuracy: 99.9141 \n"
          ],
          "name": "stdout"
        },
        {
          "output_type": "stream",
          "text": [
            "\r 32%|███▏      | 16/50 [33:22<1:10:59, 125.28s/it]"
          ],
          "name": "stderr"
        },
        {
          "output_type": "stream",
          "text": [
            "\n",
            "Train loss: -0.7932, Training Accuracy: 82.5714 \n",
            "Val Loss: -0.8058, Validation Accuracy: 99.9229 \n"
          ],
          "name": "stdout"
        },
        {
          "output_type": "stream",
          "text": [
            "\r 34%|███▍      | 17/50 [35:28<1:08:58, 125.40s/it]"
          ],
          "name": "stderr"
        },
        {
          "output_type": "stream",
          "text": [
            "\n",
            "Train loss: -0.7816, Training Accuracy: 88.1292 \n",
            "Val Loss: -0.7938, Validation Accuracy: 99.8838 \n"
          ],
          "name": "stdout"
        },
        {
          "output_type": "stream",
          "text": [
            "\r 36%|███▌      | 18/50 [37:34<1:06:56, 125.52s/it]"
          ],
          "name": "stderr"
        },
        {
          "output_type": "stream",
          "text": [
            "\n",
            "Train loss: -0.7933, Training Accuracy: 94.8635 \n",
            "Val Loss: -0.7923, Validation Accuracy: 100.0000 \n"
          ],
          "name": "stdout"
        },
        {
          "output_type": "stream",
          "text": [
            "\r 38%|███▊      | 19/50 [39:38<1:04:40, 125.18s/it]"
          ],
          "name": "stderr"
        },
        {
          "output_type": "stream",
          "text": [
            "\n",
            "Train loss: -0.7953, Training Accuracy: 70.9157 \n",
            "Val Loss: -0.7812, Validation Accuracy: 99.8936 \n"
          ],
          "name": "stdout"
        },
        {
          "output_type": "stream",
          "text": [
            "\r 40%|████      | 20/50 [41:42<1:02:24, 124.83s/it]"
          ],
          "name": "stderr"
        },
        {
          "output_type": "stream",
          "text": [
            "\n",
            "Train loss: -0.7875, Training Accuracy: 88.6330 \n",
            "Val Loss: -0.8344, Validation Accuracy: 99.9766 \n"
          ],
          "name": "stdout"
        },
        {
          "output_type": "stream",
          "text": [
            "\r 42%|████▏     | 21/50 [43:48<1:00:25, 125.02s/it]"
          ],
          "name": "stderr"
        },
        {
          "output_type": "stream",
          "text": [
            "\n",
            "Train loss: -0.8104, Training Accuracy: 76.9685 \n",
            "Val Loss: -0.8126, Validation Accuracy: 99.8320 \n"
          ],
          "name": "stdout"
        },
        {
          "output_type": "stream",
          "text": [
            "\r 44%|████▍     | 22/50 [45:54<58:26, 125.24s/it]  "
          ],
          "name": "stderr"
        },
        {
          "output_type": "stream",
          "text": [
            "\n",
            "Train loss: -0.8226, Training Accuracy: 84.8399 \n",
            "Val Loss: -0.8175, Validation Accuracy: 100.0000 \n"
          ],
          "name": "stdout"
        },
        {
          "output_type": "stream",
          "text": [
            "\r 46%|████▌     | 23/50 [47:59<56:24, 125.34s/it]"
          ],
          "name": "stderr"
        },
        {
          "output_type": "stream",
          "text": [
            "\n",
            "Train loss: -0.8223, Training Accuracy: 93.9410 \n",
            "Val Loss: -0.8104, Validation Accuracy: 99.8428 \n"
          ],
          "name": "stdout"
        },
        {
          "output_type": "stream",
          "text": [
            "\r 48%|████▊     | 24/50 [50:04<54:17, 125.28s/it]"
          ],
          "name": "stderr"
        },
        {
          "output_type": "stream",
          "text": [
            "\n",
            "Train loss: -0.8238, Training Accuracy: 93.6068 \n",
            "Val Loss: -0.8465, Validation Accuracy: 99.9414 \n"
          ],
          "name": "stdout"
        },
        {
          "output_type": "stream",
          "text": [
            "\r 50%|█████     | 25/50 [52:09<52:05, 125.02s/it]"
          ],
          "name": "stderr"
        },
        {
          "output_type": "stream",
          "text": [
            "\n",
            "Train loss: -0.8372, Training Accuracy: 89.7695 \n",
            "Val Loss: -0.7960, Validation Accuracy: 100.0000 \n"
          ],
          "name": "stdout"
        },
        {
          "output_type": "stream",
          "text": [
            "\r 52%|█████▏    | 26/50 [54:14<50:02, 125.10s/it]"
          ],
          "name": "stderr"
        },
        {
          "output_type": "stream",
          "text": [
            "\n",
            "Train loss: -0.8360, Training Accuracy: 93.0430 \n",
            "Val Loss: -0.8117, Validation Accuracy: 99.7305 \n"
          ],
          "name": "stdout"
        },
        {
          "output_type": "stream",
          "text": [
            "\r 54%|█████▍    | 27/50 [56:19<47:55, 125.03s/it]"
          ],
          "name": "stderr"
        },
        {
          "output_type": "stream",
          "text": [
            "\n",
            "Train loss: -0.8419, Training Accuracy: 95.7228 \n",
            "Val Loss: -0.8337, Validation Accuracy: 100.0000 \n"
          ],
          "name": "stdout"
        },
        {
          "output_type": "stream",
          "text": [
            "\r 56%|█████▌    | 28/50 [58:23<45:45, 124.79s/it]"
          ],
          "name": "stderr"
        },
        {
          "output_type": "stream",
          "text": [
            "\n",
            "Train loss: -0.8394, Training Accuracy: 90.8487 \n",
            "Val Loss: -0.8308, Validation Accuracy: 100.0000 \n"
          ],
          "name": "stdout"
        },
        {
          "output_type": "stream",
          "text": [
            "\r 58%|█████▊    | 29/50 [1:00:28<43:39, 124.74s/it]"
          ],
          "name": "stderr"
        },
        {
          "output_type": "stream",
          "text": [
            "\n",
            "Train loss: -0.8471, Training Accuracy: 93.5839 \n",
            "Val Loss: -0.8566, Validation Accuracy: 99.8525 \n"
          ],
          "name": "stdout"
        },
        {
          "output_type": "stream",
          "text": [
            "\r 60%|██████    | 30/50 [1:02:31<41:23, 124.19s/it]"
          ],
          "name": "stderr"
        },
        {
          "output_type": "stream",
          "text": [
            "\n",
            "Train loss: -0.8466, Training Accuracy: 89.9138 \n",
            "Val Loss: -0.8198, Validation Accuracy: 100.0000 \n"
          ],
          "name": "stdout"
        },
        {
          "output_type": "stream",
          "text": [
            "\r 62%|██████▏   | 31/50 [1:04:34<39:17, 124.09s/it]"
          ],
          "name": "stderr"
        },
        {
          "output_type": "stream",
          "text": [
            "\n",
            "Train loss: -0.8474, Training Accuracy: 89.4780 \n",
            "Val Loss: -0.8117, Validation Accuracy: 99.8672 \n"
          ],
          "name": "stdout"
        },
        {
          "output_type": "stream",
          "text": [
            "\r 64%|██████▍   | 32/50 [1:06:38<37:08, 123.83s/it]"
          ],
          "name": "stderr"
        },
        {
          "output_type": "stream",
          "text": [
            "\n",
            "Train loss: -0.8533, Training Accuracy: 88.7608 \n",
            "Val Loss: -0.8293, Validation Accuracy: 100.0000 \n"
          ],
          "name": "stdout"
        },
        {
          "output_type": "stream",
          "text": [
            "\r 66%|██████▌   | 33/50 [1:08:42<35:05, 123.88s/it]"
          ],
          "name": "stderr"
        },
        {
          "output_type": "stream",
          "text": [
            "\n",
            "Train loss: -0.8480, Training Accuracy: 90.3094 \n",
            "Val Loss: -0.8412, Validation Accuracy: 100.0000 \n"
          ],
          "name": "stdout"
        },
        {
          "output_type": "stream",
          "text": [
            "\r 68%|██████▊   | 34/50 [1:10:45<33:01, 123.82s/it]"
          ],
          "name": "stderr"
        },
        {
          "output_type": "stream",
          "text": [
            "\n",
            "Train loss: -0.8527, Training Accuracy: 92.9939 \n",
            "Val Loss: -0.8497, Validation Accuracy: 99.8750 \n"
          ],
          "name": "stdout"
        },
        {
          "output_type": "stream",
          "text": [
            "\r 70%|███████   | 35/50 [1:12:48<30:50, 123.35s/it]"
          ],
          "name": "stderr"
        },
        {
          "output_type": "stream",
          "text": [
            "\n",
            "Train loss: -0.8539, Training Accuracy: 89.2399 \n",
            "Val Loss: -0.8425, Validation Accuracy: 99.9004 \n"
          ],
          "name": "stdout"
        },
        {
          "output_type": "stream",
          "text": [
            "\r 72%|███████▏  | 36/50 [1:14:51<28:45, 123.23s/it]"
          ],
          "name": "stderr"
        },
        {
          "output_type": "stream",
          "text": [
            "\n",
            "Train loss: -0.8620, Training Accuracy: 88.5386 \n",
            "Val Loss: -0.8607, Validation Accuracy: 99.8232 \n"
          ],
          "name": "stdout"
        },
        {
          "output_type": "stream",
          "text": [
            "\r 74%|███████▍  | 37/50 [1:16:54<26:42, 123.29s/it]"
          ],
          "name": "stderr"
        },
        {
          "output_type": "stream",
          "text": [
            "\n",
            "Train loss: -0.8632, Training Accuracy: 90.1033 \n",
            "Val Loss: -0.8617, Validation Accuracy: 99.9443 \n"
          ],
          "name": "stdout"
        },
        {
          "output_type": "stream",
          "text": [
            "\r 76%|███████▌  | 38/50 [1:18:57<24:37, 123.10s/it]"
          ],
          "name": "stderr"
        },
        {
          "output_type": "stream",
          "text": [
            "\n",
            "Train loss: -0.8630, Training Accuracy: 86.8172 \n",
            "Val Loss: -0.8632, Validation Accuracy: 99.6855 \n"
          ],
          "name": "stdout"
        },
        {
          "output_type": "stream",
          "text": [
            "\r 78%|███████▊  | 39/50 [1:21:00<22:35, 123.20s/it]"
          ],
          "name": "stderr"
        },
        {
          "output_type": "stream",
          "text": [
            "\n",
            "Train loss: -0.8632, Training Accuracy: 91.2247 \n",
            "Val Loss: -0.8408, Validation Accuracy: 100.0000 \n"
          ],
          "name": "stdout"
        },
        {
          "output_type": "stream",
          "text": [
            "\r 80%|████████  | 40/50 [1:23:04<20:34, 123.49s/it]"
          ],
          "name": "stderr"
        },
        {
          "output_type": "stream",
          "text": [
            "\n",
            "Train loss: -0.8638, Training Accuracy: 84.7490 \n",
            "Val Loss: -0.8621, Validation Accuracy: 99.8389 \n"
          ],
          "name": "stdout"
        },
        {
          "output_type": "stream",
          "text": [
            "\r 82%|████████▏ | 41/50 [1:25:08<18:31, 123.55s/it]"
          ],
          "name": "stderr"
        },
        {
          "output_type": "stream",
          "text": [
            "\n",
            "Train loss: -0.8636, Training Accuracy: 86.3802 \n",
            "Val Loss: -0.8420, Validation Accuracy: 100.0000 \n"
          ],
          "name": "stdout"
        },
        {
          "output_type": "stream",
          "text": [
            "\r 84%|████████▍ | 42/50 [1:27:12<16:29, 123.63s/it]"
          ],
          "name": "stderr"
        },
        {
          "output_type": "stream",
          "text": [
            "\n",
            "Train loss: -0.8636, Training Accuracy: 74.1658 \n",
            "Val Loss: -0.8353, Validation Accuracy: 100.0000 \n"
          ],
          "name": "stdout"
        },
        {
          "output_type": "stream",
          "text": [
            "\r 86%|████████▌ | 43/50 [1:29:15<14:25, 123.63s/it]"
          ],
          "name": "stderr"
        },
        {
          "output_type": "stream",
          "text": [
            "\n",
            "Train loss: -0.8713, Training Accuracy: 93.5762 \n",
            "Val Loss: -0.8456, Validation Accuracy: 100.0000 \n"
          ],
          "name": "stdout"
        },
        {
          "output_type": "stream",
          "text": [
            "\r 88%|████████▊ | 44/50 [1:31:18<12:20, 123.38s/it]"
          ],
          "name": "stderr"
        },
        {
          "output_type": "stream",
          "text": [
            "\n",
            "Train loss: -0.8676, Training Accuracy: 91.4768 \n",
            "Val Loss: -0.8356, Validation Accuracy: 100.0000 \n"
          ],
          "name": "stdout"
        },
        {
          "output_type": "stream",
          "text": [
            "\r 90%|█████████ | 45/50 [1:33:22<10:17, 123.57s/it]"
          ],
          "name": "stderr"
        },
        {
          "output_type": "stream",
          "text": [
            "\n",
            "Train loss: -0.8690, Training Accuracy: 88.5988 \n",
            "Val Loss: -0.8606, Validation Accuracy: 99.9385 \n"
          ],
          "name": "stdout"
        },
        {
          "output_type": "stream",
          "text": [
            "\r 92%|█████████▏| 46/50 [1:35:26<08:14, 123.57s/it]"
          ],
          "name": "stderr"
        },
        {
          "output_type": "stream",
          "text": [
            "\n",
            "Train loss: -0.8659, Training Accuracy: 89.4264 \n",
            "Val Loss: -0.8464, Validation Accuracy: 100.0000 \n"
          ],
          "name": "stdout"
        },
        {
          "output_type": "stream",
          "text": [
            "\r 94%|█████████▍| 47/50 [1:37:29<06:10, 123.58s/it]"
          ],
          "name": "stderr"
        },
        {
          "output_type": "stream",
          "text": [
            "\n",
            "Train loss: -0.8604, Training Accuracy: 92.3131 \n",
            "Val Loss: -0.8626, Validation Accuracy: 99.5205 \n"
          ],
          "name": "stdout"
        },
        {
          "output_type": "stream",
          "text": [
            "\r 96%|█████████▌| 48/50 [1:39:32<04:06, 123.44s/it]"
          ],
          "name": "stderr"
        },
        {
          "output_type": "stream",
          "text": [
            "\n",
            "Train loss: -0.8743, Training Accuracy: 91.0530 \n",
            "Val Loss: -0.8593, Validation Accuracy: 99.8877 \n"
          ],
          "name": "stdout"
        },
        {
          "output_type": "stream",
          "text": [
            "\r 98%|█████████▊| 49/50 [1:41:37<02:03, 123.67s/it]"
          ],
          "name": "stderr"
        },
        {
          "output_type": "stream",
          "text": [
            "\n",
            "Train loss: -0.8698, Training Accuracy: 88.9939 \n",
            "Val Loss: -0.8371, Validation Accuracy: 100.0000 \n"
          ],
          "name": "stdout"
        },
        {
          "output_type": "stream",
          "text": [
            "100%|██████████| 50/50 [1:43:40<00:00, 124.41s/it]"
          ],
          "name": "stderr"
        },
        {
          "output_type": "stream",
          "text": [
            "\n",
            "Train loss: -0.8678, Training Accuracy: 97.9336 \n",
            "Val Loss: -0.8296, Validation Accuracy: 100.0000 \n"
          ],
          "name": "stdout"
        },
        {
          "output_type": "stream",
          "text": [
            "\n"
          ],
          "name": "stderr"
        }
      ]
    },
    {
      "cell_type": "markdown",
      "metadata": {
        "id": "EzmkxW-K5VRB",
        "colab_type": "text"
      },
      "source": [
        "Plot Dice score over epochs"
      ]
    },
    {
      "cell_type": "code",
      "metadata": {
        "id": "c498nSc8Cv-f",
        "colab_type": "code",
        "colab": {
          "base_uri": "https://localhost:8080/",
          "height": 297
        },
        "outputId": "9a34da53-10df-42b0-bf4e-d9328eb9a19c"
      },
      "source": [
        "plt.plot(range(1, len(train_dice_loss)+1), [-x for x in train_dice_loss], label=\"Train Dice score\")\n",
        "plt.plot(range(1, len(val_dice_loss)+1), [-x for x in val_dice_loss], label=\"Val Dice score\")\n",
        "plt.legend(loc=\"lower right\")\n",
        "plt.xlabel(\"Epochs\")\n",
        "plt.ylabel(\"Dice score\")"
      ],
      "execution_count": 90,
      "outputs": [
        {
          "output_type": "execute_result",
          "data": {
            "text/plain": [
              "Text(0, 0.5, 'Dice score')"
            ]
          },
          "metadata": {
            "tags": []
          },
          "execution_count": 90
        },
        {
          "output_type": "display_data",
          "data": {
            "image/png": "[encoded data removed]",
            "text/plain": [
              "<Figure size 432x288 with 1 Axes>"
            ]
          },
          "metadata": {
            "tags": [],
            "needs_background": "light"
          }
        }
      ]
    },
    {
      "cell_type": "markdown",
      "metadata": {
        "id": "hCJE0b0-5Ye_",
        "colab_type": "text"
      },
      "source": [
        "Save trained model"
      ]
    },
    {
      "cell_type": "code",
      "metadata": {
        "id": "dWNTSGjwD3fu",
        "colab_type": "code",
        "colab": {}
      },
      "source": [
        "PATH = '/content/drive/My Drive/net.pth'\n",
        "torch.save(model.state_dict(), PATH)"
      ],
      "execution_count": 96,
      "outputs": []
    },
    {
      "cell_type": "markdown",
      "metadata": {
        "id": "Ba5G-9EY5aBj",
        "colab_type": "text"
      },
      "source": [
        "Predicted output on the same slice as earlier"
      ]
    },
    {
      "cell_type": "code",
      "metadata": {
        "id": "usoeDCEzkJLD",
        "colab_type": "code",
        "colab": {
          "base_uri": "https://localhost:8080/",
          "height": 250
        },
        "outputId": "a043c51c-e819-4c66-d4f1-02bf3b06c801"
      },
      "source": [
        "slice_pair = pair.get_pair_slice(42)\n",
        "input = slice_pair['input']\n",
        "gt = slice_pair['gt']\n",
        "\n",
        "plt.subplot(1, 3, 1)\n",
        "plt.imshow(input, cmap='gray')\n",
        "plt.title('Input slice')\n",
        "\n",
        "plt.subplot(1, 3, 2)\n",
        "plt.imshow(gt, cmap='gray')\n",
        "plt.title('Ground truth')\n",
        "\n",
        "\n",
        "pred = model(torch.from_numpy(input).unsqueeze(0).unsqueeze(0).cuda())\n",
        "plt.subplot(1, 3, 3)\n",
        "plt.imshow(pred.cpu().detach().squeeze(), cmap='gray')\n",
        "plt.title('Predicted masks')\n",
        "\n",
        "plt.show()"
      ],
      "execution_count": 105,
      "outputs": [
        {
          "output_type": "stream",
          "text": [
            "/usr/local/lib/python3.6/dist-packages/torch/nn/functional.py:3121: UserWarning: Default upsampling behavior when mode=bilinear is changed to align_corners=False since 0.4.0. Please specify align_corners=True if the old behavior is desired. See the documentation of nn.Upsample for details.\n",
            "  \"See the documentation of nn.Upsample for details.\".format(mode))\n",
            "/usr/local/lib/python3.6/dist-packages/torch/nn/functional.py:1625: UserWarning: nn.functional.sigmoid is deprecated. Use torch.sigmoid instead.\n",
            "  warnings.warn(\"nn.functional.sigmoid is deprecated. Use torch.sigmoid instead.\")\n"
          ],
          "name": "stderr"
        },
        {
          "output_type": "display_data",
          "data": {
            "image/png": "[encoded data removed]",
            "text/plain": [
              "<Figure size 432x288 with 3 Axes>"
            ]
          },
          "metadata": {
            "tags": [],
            "needs_background": "light"
          }
        }
      ]
    }
  ]
}